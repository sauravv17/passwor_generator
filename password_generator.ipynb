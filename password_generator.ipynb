{
 "cells": [
  {
   "cell_type": "code",
   "execution_count": 15,
   "metadata": {},
   "outputs": [
    {
     "name": "stdout",
     "output_type": "stream",
     "text": [
      "how many digits long password is required5\n",
      "set the password v263B\n"
     ]
    }
   ],
   "source": [
    "import random\n",
    "def gen_pass(length=8):\n",
    "    l=['@','#','$','&']\n",
    "    upper = chr(random.randint(65,90))\n",
    "    lower = chr(random.randint(97,122))\n",
    "    special=random.choice(l)\n",
    "    digit= random.randint(10000,99999)\n",
    "    password=upper+lower+special+str(digit)\n",
    "    s= random.sample(password,length)\n",
    "    password=(\"\").join(s)\n",
    "    return password\n",
    "\n",
    "n=int(input('how many digits long password is required'))\n",
    "result=gen_pass(n)\n",
    "print('set the password',result)"
   ]
  },
  {
   "cell_type": "code",
   "execution_count": null,
   "metadata": {},
   "outputs": [],
   "source": []
  },
  {
   "cell_type": "code",
   "execution_count": null,
   "metadata": {},
   "outputs": [],
   "source": []
  },
  {
   "cell_type": "code",
   "execution_count": null,
   "metadata": {},
   "outputs": [],
   "source": []
  }
 ],
 "metadata": {
  "kernelspec": {
   "display_name": "Python 3",
   "language": "python",
   "name": "python3"
  },
  "language_info": {
   "codemirror_mode": {
    "name": "ipython",
    "version": 3
   },
   "file_extension": ".py",
   "mimetype": "text/x-python",
   "name": "python",
   "nbconvert_exporter": "python",
   "pygments_lexer": "ipython3",
   "version": "3.8.5"
  }
 },
 "nbformat": 4,
 "nbformat_minor": 4
}
